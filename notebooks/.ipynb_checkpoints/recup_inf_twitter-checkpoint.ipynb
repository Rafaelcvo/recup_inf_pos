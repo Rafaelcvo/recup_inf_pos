{
 "cells": [
  {
   "cell_type": "code",
   "execution_count": 12,
   "metadata": {},
   "outputs": [],
   "source": [
    "# importando as bibliotecas \n",
    "\n",
    "import pandas as pd\n",
    "import numpy as np\n",
    "import tweepy"
   ]
  },
  {
   "cell_type": "code",
   "execution_count": 36,
   "metadata": {},
   "outputs": [],
   "source": [
    "# conctando ao twitter\n",
    "\n",
    "# lendo o arquivo com a chave gerada no twitter\n",
    "with open('tokens.txt', 'r') as tfile:\n",
    "    consumer_key = tfile.readline().strip('\\n')\n",
    "    consumer_secret = tfile.readline().strip('\\n')\n",
    "    access_token = tfile.readline().strip('\\n')\n",
    "    access_token_secret = tfile.readline().strip('\\n')\n",
    "\n",
    "# autenticando ao twitter\n",
    "auth = tweepy.AppAuthHandler(consumer_key, consumer_secret)\n",
    "api = tweepy.API(auth)"
   ]
  },
  {
   "cell_type": "code",
   "execution_count": 42,
   "metadata": {},
   "outputs": [],
   "source": [
    "query_search = 'PGMN3'\n",
    "\n",
    "#Gerando o cursor de busca.\n",
    "cursor_tweets = tweepy.Cursor(api.search, q=query_search, tweet_mode='extended',lang=\"pt\").items()"
   ]
  },
  {
   "cell_type": "code",
   "execution_count": 43,
   "metadata": {},
   "outputs": [],
   "source": [
    "tw = []\n",
    "for tweet in cursor_tweets:\n",
    "    tw.append([tweet.created_at, tweet.full_text])"
   ]
  },
  {
   "cell_type": "code",
   "execution_count": 44,
   "metadata": {},
   "outputs": [
    {
     "data": {
      "text/plain": [
       "[[datetime.datetime(2020, 8, 14, 8, 10, 21),\n",
       "  'Pague Menos (PGMN3) inicia reserva para compra ações na B3\\n\\nhttps://t.co/KVJ7VETQui #Negocios #IPO #PagueMenos #PGMN3 #ReservaDeAcoes'],\n",
       " [datetime.datetime(2020, 8, 12, 11, 42, 30),\n",
       "  \"Reserva de ações da rede de farmácias Pague Menos (#PGMN3) começa nesta quarta.\\n\\n→ Varejista farmacêutica tem estreia na bosa prevista para 2 de setembro, com o código 'PGMN3’.\\n\\nhttps://t.co/XA50vPVzBL\"]]"
      ]
     },
     "execution_count": 44,
     "metadata": {},
     "output_type": "execute_result"
    }
   ],
   "source": [
    "tw"
   ]
  }
 ],
 "metadata": {
  "kernelspec": {
   "display_name": "Python 3",
   "language": "python",
   "name": "python3"
  },
  "language_info": {
   "codemirror_mode": {
    "name": "ipython",
    "version": 3
   },
   "file_extension": ".py",
   "mimetype": "text/x-python",
   "name": "python",
   "nbconvert_exporter": "python",
   "pygments_lexer": "ipython3",
   "version": "3.7.4"
  }
 },
 "nbformat": 4,
 "nbformat_minor": 2
}
