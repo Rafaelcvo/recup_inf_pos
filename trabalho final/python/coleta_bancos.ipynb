{
 "cells": [
  {
   "cell_type": "code",
   "execution_count": 18,
   "metadata": {},
   "outputs": [],
   "source": [
    "import tweepy\n",
    "import re\n",
    "import json\n",
    "import pandas as pd\n",
    "import numpy as np\n",
    "from pymongo import MongoClient"
   ]
  },
  {
   "cell_type": "markdown",
   "metadata": {},
   "source": [
    "## Criando a base de dados."
   ]
  },
  {
   "cell_type": "code",
   "execution_count": 2,
   "metadata": {},
   "outputs": [],
   "source": [
    "# Consectando ao banco e criando as coleções.\n",
    "\n",
    "cliente = MongoClient('localhost', 27017)\n",
    "db = cliente.bd_tweets"
   ]
  },
  {
   "cell_type": "markdown",
   "metadata": {},
   "source": [
    "## Conectando ao Twitter"
   ]
  },
  {
   "cell_type": "code",
   "execution_count": 3,
   "metadata": {},
   "outputs": [],
   "source": [
    "with open('key.txt', 'r') as tfile:\n",
    "    consumer_key = tfile.readline().strip('\\n')\n",
    "    consumer_secret = tfile.readline().strip('\\n')"
   ]
  },
  {
   "cell_type": "code",
   "execution_count": 4,
   "metadata": {},
   "outputs": [],
   "source": [
    "# variaveis para fazer o login\n",
    "\n",
    "auth = tweepy.AppAuthHandler(consumer_key, consumer_secret)\n",
    "api = tweepy.API(auth,wait_on_rate_limit=True)"
   ]
  },
  {
   "cell_type": "code",
   "execution_count": 54,
   "metadata": {},
   "outputs": [],
   "source": [
    "def captura_tweets(pesquis):\n",
    "    \n",
    "    query_search = pesquis + '-filter:retweets'\n",
    "\n",
    "    #Gerando o cursor de busca.\n",
    "    cursor_tweets = tweepy.Cursor(api.search, q=query_search, tweet_mode='extended',lang=\"pt\").items(1000)\n",
    "   \n",
    "    tw = []\n",
    "\n",
    "    for tweet in cursor_tweets:\n",
    "        tw.append(tweet)\n",
    "  \n",
    "    return tw"
   ]
  },
  {
   "cell_type": "markdown",
   "metadata": {},
   "source": [
    "## Capturando os Tweets"
   ]
  },
  {
   "cell_type": "code",
   "execution_count": 6,
   "metadata": {},
   "outputs": [],
   "source": [
    "inter = captura_tweets(\"@BancoInter\")"
   ]
  },
  {
   "cell_type": "code",
   "execution_count": 7,
   "metadata": {},
   "outputs": [],
   "source": [
    "nubank = captura_tweets(\"@nubank\")"
   ]
  },
  {
   "cell_type": "code",
   "execution_count": 8,
   "metadata": {},
   "outputs": [],
   "source": [
    "c6bank = captura_tweets(\"@c6Bank\")"
   ]
  },
  {
   "cell_type": "code",
   "execution_count": 43,
   "metadata": {},
   "outputs": [],
   "source": [
    "# selecionando informações para serem salvas no banco.\n",
    "\n",
    "def inform(banco):\n",
    "    tw = []\n",
    "    for tweet in banco:\n",
    "        tw.append([tweet.created_at, tweet.full_text])\n",
    "    return pd.DataFrame(tw, columns=['Data','Tweet'])    "
   ]
  },
  {
   "cell_type": "code",
   "execution_count": 46,
   "metadata": {},
   "outputs": [],
   "source": [
    "df_inter = inform(inter)\n",
    "df_nubank = inform(nubank)\n",
    "df_c6bank = inform(c6bank)"
   ]
  },
  {
   "cell_type": "code",
   "execution_count": 75,
   "metadata": {},
   "outputs": [
    {
     "data": {
      "text/plain": [
       "[[{'hashtags': [],\n",
       "   'symbols': [],\n",
       "   'user_mentions': [{'screen_name': 'robenffc',\n",
       "     'name': 'Souza🇭🇺',\n",
       "     'id': 3364325446,\n",
       "     'id_str': '3364325446',\n",
       "     'indices': [0, 9]},\n",
       "    {'screen_name': 'nubank',\n",
       "     'name': 'Nubank',\n",
       "     'id': 2319390320,\n",
       "     'id_str': '2319390320',\n",
       "     'indices': [10, 17]}],\n",
       "   'urls': []}]]"
      ]
     },
     "execution_count": 75,
     "metadata": {},
     "output_type": "execute_result"
    }
   ],
   "source": [
    "tw = []\n",
    "for tweet in teste:\n",
    "    tw.append([tweet.entities])\n",
    "tw"
   ]
  }
 ],
 "metadata": {
  "kernelspec": {
   "display_name": "Python 3",
   "language": "python",
   "name": "python3"
  },
  "language_info": {
   "codemirror_mode": {
    "name": "ipython",
    "version": 3
   },
   "file_extension": ".py",
   "mimetype": "text/x-python",
   "name": "python",
   "nbconvert_exporter": "python",
   "pygments_lexer": "ipython3",
   "version": "3.8.2"
  }
 },
 "nbformat": 4,
 "nbformat_minor": 4
}
