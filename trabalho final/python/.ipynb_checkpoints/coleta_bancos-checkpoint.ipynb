{
 "cells": [
  {
   "cell_type": "code",
   "execution_count": 1,
   "metadata": {},
   "outputs": [],
   "source": [
    "import tweepy\n",
    "import re\n",
    "import json\n",
    "import pandas as pd\n",
    "import numpy as np\n",
    "from pymongo import MongoClient"
   ]
  },
  {
   "cell_type": "markdown",
   "metadata": {},
   "source": [
    "## Criando a base de dados."
   ]
  },
  {
   "cell_type": "code",
   "execution_count": 2,
   "metadata": {},
   "outputs": [],
   "source": [
    "# Consectando ao banco e criando as coleções.\n",
    "\n",
    "cliente = MongoClient('localhost', 27017)\n",
    "db = cliente.bd_tweets"
   ]
  },
  {
   "cell_type": "markdown",
   "metadata": {},
   "source": [
    "## Conectando ao Twitter"
   ]
  },
  {
   "cell_type": "code",
   "execution_count": 3,
   "metadata": {},
   "outputs": [],
   "source": [
    "with open('key.txt', 'r') as tfile:\n",
    "    consumer_key = tfile.readline().strip('\\n')\n",
    "    consumer_secret = tfile.readline().strip('\\n')"
   ]
  },
  {
   "cell_type": "code",
   "execution_count": 4,
   "metadata": {},
   "outputs": [],
   "source": [
    "# variaveis para fazer o login\n",
    "\n",
    "auth = tweepy.AppAuthHandler(consumer_key, consumer_secret)\n",
    "api = tweepy.API(auth,wait_on_rate_limit=True)"
   ]
  },
  {
   "cell_type": "code",
   "execution_count": 5,
   "metadata": {},
   "outputs": [],
   "source": [
    "def captura_tweets(pesquis):\n",
    "    \n",
    "    query_search = pesquis + '-filter:retweets'\n",
    "\n",
    "    #Gerando o cursor de busca.\n",
    "    cursor_tweets = tweepy.Cursor(api.search, q=query_search, tweet_mode='extended',lang=\"pt\").items(1000)\n",
    "   \n",
    "    tw = []\n",
    "\n",
    "    for tweet in cursor_tweets:\n",
    "        tw.append(tweet)\n",
    "  \n",
    "    return tw"
   ]
  },
  {
   "cell_type": "markdown",
   "metadata": {},
   "source": [
    "## Capturando os Tweets"
   ]
  },
  {
   "cell_type": "code",
   "execution_count": 6,
   "metadata": {},
   "outputs": [],
   "source": [
    "inter = captura_tweets(\"@BancoInter\")"
   ]
  },
  {
   "cell_type": "code",
   "execution_count": 7,
   "metadata": {},
   "outputs": [],
   "source": [
    "nubank = captura_tweets(\"@nubank\")"
   ]
  },
  {
   "cell_type": "code",
   "execution_count": 8,
   "metadata": {},
   "outputs": [],
   "source": [
    "c6bank = captura_tweets(\"@c6Bank\")"
   ]
  },
  {
   "cell_type": "code",
   "execution_count": 32,
   "metadata": {},
   "outputs": [],
   "source": [
    "# selecionando informações para serem salvas no banco.\n",
    "\n",
    "def inform(banco):\n",
    "    tw = []\n",
    "    for tweet in banco:\n",
    "        tw.append([tweet.id,tweet.user.screen_name, tweet.created_at, tweet.full_text, tweet.source, tweet.user.followers_count, tweet.user.friends_count])\n",
    "    return pd.DataFrame(tw, columns=['id','Nome','Data','Tweet', 'Aparelho', 'Seguidores', 'Amigos'])    "
   ]
  },
  {
   "cell_type": "code",
   "execution_count": 33,
   "metadata": {},
   "outputs": [],
   "source": [
    "df_inter = inform(inter)\n",
    "df_nubank = inform(nubank)\n",
    "df_c6bank = inform(c6bank)"
   ]
  },
  {
   "cell_type": "markdown",
   "metadata": {},
   "source": [
    "## Salvando os tweets."
   ]
  },
  {
   "cell_type": "code",
   "execution_count": 40,
   "metadata": {},
   "outputs": [
    {
     "data": {
      "text/plain": [
       "<pymongo.results.InsertManyResult at 0x7f1a0b1b7100>"
      ]
     },
     "execution_count": 40,
     "metadata": {},
     "output_type": "execute_result"
    }
   ],
   "source": [
    "db.inter.insert_many(df_inter.to_dict('records'))"
   ]
  },
  {
   "cell_type": "code",
   "execution_count": 43,
   "metadata": {},
   "outputs": [
    {
     "data": {
      "text/plain": [
       "<pymongo.results.InsertManyResult at 0x7f1a0b224300>"
      ]
     },
     "execution_count": 43,
     "metadata": {},
     "output_type": "execute_result"
    }
   ],
   "source": [
    "db.nubank.insert_many(df_nubank.to_dict('records'))\n",
    "db.c6bank.insert_many(df_c6bank.to_dict('records'))"
   ]
  },
  {
   "cell_type": "code",
   "execution_count": 44,
   "metadata": {},
   "outputs": [
    {
     "data": {
      "text/plain": [
       "['nubank', 'c6bank', 'inter']"
      ]
     },
     "execution_count": 44,
     "metadata": {},
     "output_type": "execute_result"
    }
   ],
   "source": [
    "db.list_collection_names()"
   ]
  },
  {
   "cell_type": "markdown",
   "metadata": {},
   "source": [
    "## Consultando o banco."
   ]
  },
  {
   "cell_type": "code",
   "execution_count": 53,
   "metadata": {},
   "outputs": [],
   "source": [
    "def consult_banco(banco):\n",
    "    banco =[]\n",
    "    for x in db.banco.find():\n",
    "        banco.append(x)"
   ]
  },
  {
   "cell_type": "code",
   "execution_count": 55,
   "metadata": {},
   "outputs": [
    {
     "data": {
      "text/html": [
       "<div>\n",
       "<style scoped>\n",
       "    .dataframe tbody tr th:only-of-type {\n",
       "        vertical-align: middle;\n",
       "    }\n",
       "\n",
       "    .dataframe tbody tr th {\n",
       "        vertical-align: top;\n",
       "    }\n",
       "\n",
       "    .dataframe thead th {\n",
       "        text-align: right;\n",
       "    }\n",
       "</style>\n",
       "<table border=\"1\" class=\"dataframe\">\n",
       "  <thead>\n",
       "    <tr style=\"text-align: right;\">\n",
       "      <th></th>\n",
       "      <th>_id</th>\n",
       "      <th>id</th>\n",
       "      <th>Nome</th>\n",
       "      <th>Data</th>\n",
       "      <th>Tweet</th>\n",
       "      <th>Aparelho</th>\n",
       "      <th>Seguidores</th>\n",
       "      <th>Amigos</th>\n",
       "    </tr>\n",
       "  </thead>\n",
       "  <tbody>\n",
       "    <tr>\n",
       "      <th>0</th>\n",
       "      <td>5f62969dc3559a0787748717</td>\n",
       "      <td>1306354987145015296</td>\n",
       "      <td>eskarlath</td>\n",
       "      <td>2020-09-16 22:11:14</td>\n",
       "      <td>@nubank Libera limite ai pô</td>\n",
       "      <td>Twitter for Android</td>\n",
       "      <td>977</td>\n",
       "      <td>1012</td>\n",
       "    </tr>\n",
       "    <tr>\n",
       "      <th>1</th>\n",
       "      <td>5f62969dc3559a0787748718</td>\n",
       "      <td>1306354931935436800</td>\n",
       "      <td>CamilaAnne1</td>\n",
       "      <td>2020-09-16 22:11:01</td>\n",
       "      <td>@jamesonsilva @nubank É muita emoçaooo</td>\n",
       "      <td>Twitter for Android</td>\n",
       "      <td>113</td>\n",
       "      <td>205</td>\n",
       "    </tr>\n",
       "    <tr>\n",
       "      <th>2</th>\n",
       "      <td>5f62969dc3559a0787748719</td>\n",
       "      <td>1306354832643624967</td>\n",
       "      <td>ttkwillian</td>\n",
       "      <td>2020-09-16 22:10:37</td>\n",
       "      <td>pô @nubank aumenta meu limite aí, 400 pila até...</td>\n",
       "      <td>Twitter for Android</td>\n",
       "      <td>186</td>\n",
       "      <td>127</td>\n",
       "    </tr>\n",
       "    <tr>\n",
       "      <th>3</th>\n",
       "      <td>5f62969dc3559a078774871a</td>\n",
       "      <td>1306354652057927681</td>\n",
       "      <td>alexsdjr</td>\n",
       "      <td>2020-09-16 22:09:54</td>\n",
       "      <td>@_quesedani @nubank NÃO GOSTO DE VOCÊ \\nNÃO SI...</td>\n",
       "      <td>Twitter Web App</td>\n",
       "      <td>223</td>\n",
       "      <td>638</td>\n",
       "    </tr>\n",
       "    <tr>\n",
       "      <th>4</th>\n",
       "      <td>5f62969dc3559a078774871b</td>\n",
       "      <td>1306354394909356038</td>\n",
       "      <td>whe3sa</td>\n",
       "      <td>2020-09-16 22:08:53</td>\n",
       "      <td>@nubank @Guidakat maldição</td>\n",
       "      <td>Twitter for Android</td>\n",
       "      <td>232</td>\n",
       "      <td>854</td>\n",
       "    </tr>\n",
       "    <tr>\n",
       "      <th>...</th>\n",
       "      <td>...</td>\n",
       "      <td>...</td>\n",
       "      <td>...</td>\n",
       "      <td>...</td>\n",
       "      <td>...</td>\n",
       "      <td>...</td>\n",
       "      <td>...</td>\n",
       "      <td>...</td>\n",
       "    </tr>\n",
       "    <tr>\n",
       "      <th>995</th>\n",
       "      <td>5f62969dc3559a0787748afa</td>\n",
       "      <td>1306241487403986944</td>\n",
       "      <td>pereira_diegu</td>\n",
       "      <td>2020-09-16 14:40:14</td>\n",
       "      <td>@viinnicarvalho @nubank Sai fora tio, senão el...</td>\n",
       "      <td>Twitter for Android</td>\n",
       "      <td>290</td>\n",
       "      <td>308</td>\n",
       "    </tr>\n",
       "    <tr>\n",
       "      <th>996</th>\n",
       "      <td>5f62969dc3559a0787748afb</td>\n",
       "      <td>1306241483633299456</td>\n",
       "      <td>lcsvaz</td>\n",
       "      <td>2020-09-16 14:40:13</td>\n",
       "      <td>@araujocrf_ @CidaCoutinho11 @_quesedani @nuban...</td>\n",
       "      <td>Twitter for Android</td>\n",
       "      <td>147</td>\n",
       "      <td>160</td>\n",
       "    </tr>\n",
       "    <tr>\n",
       "      <th>997</th>\n",
       "      <td>5f62969dc3559a0787748afc</td>\n",
       "      <td>1306241468164644864</td>\n",
       "      <td>soda_csg</td>\n",
       "      <td>2020-09-16 14:40:09</td>\n",
       "      <td>eu nunca tinha pedido p aumentar o limite do m...</td>\n",
       "      <td>Twitter for Android</td>\n",
       "      <td>594</td>\n",
       "      <td>331</td>\n",
       "    </tr>\n",
       "    <tr>\n",
       "      <th>998</th>\n",
       "      <td>5f62969dc3559a0787748afd</td>\n",
       "      <td>1306241428952158210</td>\n",
       "      <td>jwitalo_ac</td>\n",
       "      <td>2020-09-16 14:40:00</td>\n",
       "      <td>@nubank Dona Nu, me deu um aumento de limite  ...</td>\n",
       "      <td>Twitter for iPhone</td>\n",
       "      <td>145</td>\n",
       "      <td>410</td>\n",
       "    </tr>\n",
       "    <tr>\n",
       "      <th>999</th>\n",
       "      <td>5f62969dc3559a0787748afe</td>\n",
       "      <td>1306241412401422336</td>\n",
       "      <td>CarlosRegis15</td>\n",
       "      <td>2020-09-16 14:39:56</td>\n",
       "      <td>@nubank Pra ficar assim com ela paga!</td>\n",
       "      <td>Twitter for Android</td>\n",
       "      <td>66</td>\n",
       "      <td>922</td>\n",
       "    </tr>\n",
       "  </tbody>\n",
       "</table>\n",
       "<p>1000 rows × 8 columns</p>\n",
       "</div>"
      ],
      "text/plain": [
       "                          _id                   id           Nome  \\\n",
       "0    5f62969dc3559a0787748717  1306354987145015296      eskarlath   \n",
       "1    5f62969dc3559a0787748718  1306354931935436800    CamilaAnne1   \n",
       "2    5f62969dc3559a0787748719  1306354832643624967     ttkwillian   \n",
       "3    5f62969dc3559a078774871a  1306354652057927681       alexsdjr   \n",
       "4    5f62969dc3559a078774871b  1306354394909356038         whe3sa   \n",
       "..                        ...                  ...            ...   \n",
       "995  5f62969dc3559a0787748afa  1306241487403986944  pereira_diegu   \n",
       "996  5f62969dc3559a0787748afb  1306241483633299456         lcsvaz   \n",
       "997  5f62969dc3559a0787748afc  1306241468164644864       soda_csg   \n",
       "998  5f62969dc3559a0787748afd  1306241428952158210     jwitalo_ac   \n",
       "999  5f62969dc3559a0787748afe  1306241412401422336  CarlosRegis15   \n",
       "\n",
       "                   Data                                              Tweet  \\\n",
       "0   2020-09-16 22:11:14                        @nubank Libera limite ai pô   \n",
       "1   2020-09-16 22:11:01             @jamesonsilva @nubank É muita emoçaooo   \n",
       "2   2020-09-16 22:10:37  pô @nubank aumenta meu limite aí, 400 pila até...   \n",
       "3   2020-09-16 22:09:54  @_quesedani @nubank NÃO GOSTO DE VOCÊ \\nNÃO SI...   \n",
       "4   2020-09-16 22:08:53                         @nubank @Guidakat maldição   \n",
       "..                  ...                                                ...   \n",
       "995 2020-09-16 14:40:14  @viinnicarvalho @nubank Sai fora tio, senão el...   \n",
       "996 2020-09-16 14:40:13  @araujocrf_ @CidaCoutinho11 @_quesedani @nuban...   \n",
       "997 2020-09-16 14:40:09  eu nunca tinha pedido p aumentar o limite do m...   \n",
       "998 2020-09-16 14:40:00  @nubank Dona Nu, me deu um aumento de limite  ...   \n",
       "999 2020-09-16 14:39:56              @nubank Pra ficar assim com ela paga!   \n",
       "\n",
       "                Aparelho  Seguidores  Amigos  \n",
       "0    Twitter for Android         977    1012  \n",
       "1    Twitter for Android         113     205  \n",
       "2    Twitter for Android         186     127  \n",
       "3        Twitter Web App         223     638  \n",
       "4    Twitter for Android         232     854  \n",
       "..                   ...         ...     ...  \n",
       "995  Twitter for Android         290     308  \n",
       "996  Twitter for Android         147     160  \n",
       "997  Twitter for Android         594     331  \n",
       "998   Twitter for iPhone         145     410  \n",
       "999  Twitter for Android          66     922  \n",
       "\n",
       "[1000 rows x 8 columns]"
      ]
     },
     "execution_count": 55,
     "metadata": {},
     "output_type": "execute_result"
    }
   ],
   "source": [
    "x = pd.DataFrame(banco)\n",
    "x"
   ]
  }
 ],
 "metadata": {
  "kernelspec": {
   "display_name": "Python 3",
   "language": "python",
   "name": "python3"
  },
  "language_info": {
   "codemirror_mode": {
    "name": "ipython",
    "version": 3
   },
   "file_extension": ".py",
   "mimetype": "text/x-python",
   "name": "python",
   "nbconvert_exporter": "python",
   "pygments_lexer": "ipython3",
   "version": "3.8.2"
  }
 },
 "nbformat": 4,
 "nbformat_minor": 4
}
